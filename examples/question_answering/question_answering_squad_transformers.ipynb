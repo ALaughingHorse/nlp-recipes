{
 "cells": [
  {
   "cell_type": "markdown",
   "metadata": {},
   "source": [
    "Copyright (c) Microsoft Corporation. All rights reserved.\n",
    "\n",
    "Licensed under the MIT License."
   ]
  },
  {
   "cell_type": "markdown",
   "metadata": {},
   "source": [
    "# Question Answering on the SQuAD Dataset using BERT\n"
   ]
  },
  {
   "cell_type": "markdown",
   "metadata": {},
   "source": [
    "# Before You Start\n",
    "\n",
    "The running time shown in this notebook is on a Standard_NC24s_v3 Azure Deep Learning Virtual Machine with 4 NVIDIA Tesla V100 GPUs. \n",
    "> **Tip**: If you want to run through the notebook quickly, you can set the **`QUICK_RUN`** flag in the cell below to **`True`** to run the notebook on a small subset of the data and a smaller number of epochs. \n",
    "\n",
    "The table below provides some reference running time on different machine configurations.  \n",
    "\n",
    "|QUICK_RUN|Machine Configurations|Running time|\n",
    "|:---------|:----------------------|:------------|\n",
    "|True|4 **CPU**s, 14GB memory| ~ 10 minutes |\n",
    "|True|1 NVIDIA Tesla K80 GPUs, 12GB GPU memory| ~ 3 minutes |\n",
    "|False|4 NVIDIA Tesla K80 GPUs, 48GB GPU memory| ~ 18 hours |\n",
    "|False|4 NVIDIA Tesla V100 GPUs, 64GB GPU memory| ~ 7 hours|\n",
    "\n",
    "If you run into CUDA out-of-memory error, try reducing the `BATCH_SIZE` and `MAX_SEQ_LENGTH`, but note that model performance will be compromised. "
   ]
  },
  {
   "cell_type": "code",
   "execution_count": 1,
   "metadata": {},
   "outputs": [],
   "source": [
    "## Set QUICK_RUN = True to run the notebook on a small subset of data and a smaller number of epochs.\n",
    "QUICK_RUN = False"
   ]
  },
  {
   "cell_type": "markdown",
   "metadata": {},
   "source": [
    "## Summary\n",
    "This notebook demonstrates how to fine tune [pretrained BERT model](https://github.com/huggingface/pytorch-transformers) for extractive question answering task. Utility functions and classes in the NLP Best Practices repo are used to facilitate data preprocessing, model training, model scoring, result postprocessing, and model evaluation. \n",
    "\n",
    "BERT[\\[1\\]](#References) is a powerful pre-trained lanaguage model that can be used for multiple NLP tasks, including text classification, question answering, named entity recognition, etc. It's able to achieve state of the art performance with only a few epochs of fine tuning on task specific datasets.  \n",
    "The figure below illustrates how BERT can be fine tuned for extractive question answering task. The question and paragraph tokens are concatenated as a single input token sequence with a special token [SEP] between them. For the paragraph tokens, BERT predicts the probabilities of each token being the start and end of the answer span. The tokens with the highest sum of starting probability and ending probability define the span of the predicted answer\n",
    "\n",
    "<img src=\"https://nlpbp.blob.core.windows.net/images/bert_qa.PNG\">"
   ]
  },
  {
   "cell_type": "code",
   "execution_count": 2,
   "metadata": {},
   "outputs": [],
   "source": [
    "import os\n",
    "import sys\n",
    "\n",
    "import torch\n",
    "import numpy as np\n",
    "\n",
    "nlp_path = os.path.abspath('../../')\n",
    "if nlp_path not in sys.path:\n",
    "    sys.path.insert(0, nlp_path)\n",
    "\n",
    "from utils_nlp.dataset.squad import load_pandas_df\n",
    "from utils_nlp.models.transformers.question_answering import AnswerExtractor\n",
    "from utils_nlp.models.transformers.qa_utils import (QADataset, \n",
    "                                                    get_qa_dataloader, \n",
    "                                                    postprocess_answer, \n",
    "                                                    evaluate_qa, \n",
    "                                                    TOKENIZER_CLASSES\n",
    "                                                   )\n",
    "from utils_nlp.common.timer import Timer"
   ]
  },
  {
   "cell_type": "markdown",
   "metadata": {},
   "source": [
    "## Configurations"
   ]
  },
  {
   "cell_type": "code",
   "execution_count": 3,
   "metadata": {
    "tags": [
     "parameters"
    ]
   },
   "outputs": [
    {
     "name": "stdout",
     "output_type": "stream",
     "text": [
      "Max sequence length: 128\n",
      "Document stride: 64\n",
      "Batch size: 2\n"
     ]
    }
   ],
   "source": [
    "TRAIN_DATA_USED_PERCENT = 1\n",
    "DEV_DATA_USED_PERCENT = 1\n",
    "NUM_EPOCHS = 2\n",
    "\n",
    "if QUICK_RUN:\n",
    "    TRAIN_DATA_USED_PERCENT = 0.001\n",
    "    DEV_DATA_USED_PERCENT = 0.01\n",
    "    NUM_EPOCHS = 1\n",
    "\n",
    "if torch.cuda.is_available() and torch.cuda.device_count() >= 4:\n",
    "    MAX_SEQ_LENGTH = 384\n",
    "    DOC_STRIDE = 128\n",
    "    BATCH_SIZE = 8\n",
    "else:\n",
    "    MAX_SEQ_LENGTH = 128\n",
    "    DOC_STRIDE = 64\n",
    "    BATCH_SIZE = 2\n",
    "\n",
    "print(\"Max sequence length: {}\".format(MAX_SEQ_LENGTH))\n",
    "print(\"Document stride: {}\".format(DOC_STRIDE))\n",
    "print(\"Batch size: {}\".format(BATCH_SIZE))\n",
    "    \n",
    "SQUAD_VERSION = \"v1.1\" \n",
    "CACHE_DIR = \"./temp\"\n",
    "\n",
    "# MODEL_NAME = \"bert-large-uncased-whole-word-masking\"\n",
    "# DO_LOWER_CASE = True\n",
    "\n",
    "MODEL_NAME = \"xlnet-large-cased\"\n",
    "DO_LOWER_CASE = False\n",
    "\n",
    "MAX_QUESTION_LENGTH = 64\n",
    "LEARNING_RATE = 3e-5\n",
    "\n",
    "DOC_TEXT_COL = \"doc_text\"\n",
    "QUESTION_TEXT_COL = \"question_text\"\n",
    "ANSWER_START_COL = \"answer_start\"\n",
    "ANSWER_TEXT_COL = \"answer_text\"\n",
    "QA_ID_COL = \"qa_id\"\n",
    "IS_IMPOSSIBLE_COL = \"is_impossible\"\n",
    "\n",
    "RANDOM_SEED = 42\n",
    "np.random.seed(RANDOM_SEED)\n",
    "torch.manual_seed(RANDOM_SEED)\n",
    "if  torch.cuda.device_count() > 0:\n",
    "    torch.cuda.manual_seed_all(RANDOM_SEED)"
   ]
  },
  {
   "cell_type": "markdown",
   "metadata": {},
   "source": [
    "## Load Data"
   ]
  },
  {
   "cell_type": "markdown",
   "metadata": {},
   "source": [
    "### The SQuAD Dataset\n",
    "Stanford Question Answering Dataset (SQuAD) is a reading comprehension dataset, consisting of questions posed by crowdworkers on a set of Wikipedia articles, where the answer to every question is a segment of text, or span, from the corresponding reading passage, or the question might be unanswerable. [\\[2, 3\\]](#References)\n",
    "\n",
    "<img src=\"https://nlpbp.blob.core.windows.net/images/squad.png\">\n",
    "\n",
    "There has been two versions of SQuAD datasets. SQuAD 1.1 contains 100,000+ question-answer pairs on 500+ articles. SQuAD 2.0 adds 50,000 new, unanswerable questions written adversarially by crowdworkers to look similar to answerable ones. These datasets are available at [https://rajpurkar.github.io/SQuAD-explorer/](https://rajpurkar.github.io/SQuAD-explorer/). Each dataset comes with a training dataset and a development dataset. \n"
   ]
  },
  {
   "cell_type": "markdown",
   "metadata": {},
   "source": [
    "The utility function `load_pandas_df` downloads the dataset specified by `squad_version` and `file_split` to `local_cache_path` if it doesn't exist already."
   ]
  },
  {
   "cell_type": "code",
   "execution_count": 4,
   "metadata": {},
   "outputs": [],
   "source": [
    "train_df = load_pandas_df(local_cache_path=\".\", squad_version=\"v1.1\", file_split=\"train\")\n",
    "dev_df = load_pandas_df(local_cache_path=\".\", squad_version=\"v1.1\", file_split=\"dev\")"
   ]
  },
  {
   "cell_type": "code",
   "execution_count": 5,
   "metadata": {},
   "outputs": [
    {
     "data": {
      "text/html": [
       "<div>\n",
       "<style scoped>\n",
       "    .dataframe tbody tr th:only-of-type {\n",
       "        vertical-align: middle;\n",
       "    }\n",
       "\n",
       "    .dataframe tbody tr th {\n",
       "        vertical-align: top;\n",
       "    }\n",
       "\n",
       "    .dataframe thead th {\n",
       "        text-align: right;\n",
       "    }\n",
       "</style>\n",
       "<table border=\"1\" class=\"dataframe\">\n",
       "  <thead>\n",
       "    <tr style=\"text-align: right;\">\n",
       "      <th></th>\n",
       "      <th>doc_text</th>\n",
       "      <th>question_text</th>\n",
       "      <th>answer_start</th>\n",
       "      <th>answer_text</th>\n",
       "      <th>qa_id</th>\n",
       "      <th>is_impossible</th>\n",
       "    </tr>\n",
       "  </thead>\n",
       "  <tbody>\n",
       "    <tr>\n",
       "      <th>0</th>\n",
       "      <td>Architecturally, the school has a Catholic cha...</td>\n",
       "      <td>To whom did the Virgin Mary allegedly appear i...</td>\n",
       "      <td>515</td>\n",
       "      <td>Saint Bernadette Soubirous</td>\n",
       "      <td>5733be284776f41900661182</td>\n",
       "      <td>False</td>\n",
       "    </tr>\n",
       "    <tr>\n",
       "      <th>1</th>\n",
       "      <td>Architecturally, the school has a Catholic cha...</td>\n",
       "      <td>What is in front of the Notre Dame Main Building?</td>\n",
       "      <td>188</td>\n",
       "      <td>a copper statue of Christ</td>\n",
       "      <td>5733be284776f4190066117f</td>\n",
       "      <td>False</td>\n",
       "    </tr>\n",
       "    <tr>\n",
       "      <th>2</th>\n",
       "      <td>Architecturally, the school has a Catholic cha...</td>\n",
       "      <td>The Basilica of the Sacred heart at Notre Dame...</td>\n",
       "      <td>279</td>\n",
       "      <td>the Main Building</td>\n",
       "      <td>5733be284776f41900661180</td>\n",
       "      <td>False</td>\n",
       "    </tr>\n",
       "    <tr>\n",
       "      <th>3</th>\n",
       "      <td>Architecturally, the school has a Catholic cha...</td>\n",
       "      <td>What is the Grotto at Notre Dame?</td>\n",
       "      <td>381</td>\n",
       "      <td>a Marian place of prayer and reflection</td>\n",
       "      <td>5733be284776f41900661181</td>\n",
       "      <td>False</td>\n",
       "    </tr>\n",
       "    <tr>\n",
       "      <th>4</th>\n",
       "      <td>Architecturally, the school has a Catholic cha...</td>\n",
       "      <td>What sits on top of the Main Building at Notre...</td>\n",
       "      <td>92</td>\n",
       "      <td>a golden statue of the Virgin Mary</td>\n",
       "      <td>5733be284776f4190066117e</td>\n",
       "      <td>False</td>\n",
       "    </tr>\n",
       "  </tbody>\n",
       "</table>\n",
       "</div>"
      ],
      "text/plain": [
       "                                            doc_text  \\\n",
       "0  Architecturally, the school has a Catholic cha...   \n",
       "1  Architecturally, the school has a Catholic cha...   \n",
       "2  Architecturally, the school has a Catholic cha...   \n",
       "3  Architecturally, the school has a Catholic cha...   \n",
       "4  Architecturally, the school has a Catholic cha...   \n",
       "\n",
       "                                       question_text  answer_start  \\\n",
       "0  To whom did the Virgin Mary allegedly appear i...           515   \n",
       "1  What is in front of the Notre Dame Main Building?           188   \n",
       "2  The Basilica of the Sacred heart at Notre Dame...           279   \n",
       "3                  What is the Grotto at Notre Dame?           381   \n",
       "4  What sits on top of the Main Building at Notre...            92   \n",
       "\n",
       "                               answer_text                     qa_id  \\\n",
       "0               Saint Bernadette Soubirous  5733be284776f41900661182   \n",
       "1                a copper statue of Christ  5733be284776f4190066117f   \n",
       "2                        the Main Building  5733be284776f41900661180   \n",
       "3  a Marian place of prayer and reflection  5733be284776f41900661181   \n",
       "4       a golden statue of the Virgin Mary  5733be284776f4190066117e   \n",
       "\n",
       "   is_impossible  \n",
       "0          False  \n",
       "1          False  \n",
       "2          False  \n",
       "3          False  \n",
       "4          False  "
      ]
     },
     "execution_count": 5,
     "metadata": {},
     "output_type": "execute_result"
    }
   ],
   "source": [
    "train_df.head()"
   ]
  },
  {
   "cell_type": "code",
   "execution_count": 6,
   "metadata": {},
   "outputs": [
    {
     "data": {
      "text/html": [
       "<div>\n",
       "<style scoped>\n",
       "    .dataframe tbody tr th:only-of-type {\n",
       "        vertical-align: middle;\n",
       "    }\n",
       "\n",
       "    .dataframe tbody tr th {\n",
       "        vertical-align: top;\n",
       "    }\n",
       "\n",
       "    .dataframe thead th {\n",
       "        text-align: right;\n",
       "    }\n",
       "</style>\n",
       "<table border=\"1\" class=\"dataframe\">\n",
       "  <thead>\n",
       "    <tr style=\"text-align: right;\">\n",
       "      <th></th>\n",
       "      <th>doc_text</th>\n",
       "      <th>question_text</th>\n",
       "      <th>answer_start</th>\n",
       "      <th>answer_text</th>\n",
       "      <th>qa_id</th>\n",
       "      <th>is_impossible</th>\n",
       "    </tr>\n",
       "  </thead>\n",
       "  <tbody>\n",
       "    <tr>\n",
       "      <th>0</th>\n",
       "      <td>Super Bowl 50 was an American football game to...</td>\n",
       "      <td>Which NFL team represented the AFC at Super Bo...</td>\n",
       "      <td>[177, 177, 177]</td>\n",
       "      <td>[Denver Broncos, Denver Broncos, Denver Broncos]</td>\n",
       "      <td>56be4db0acb8001400a502ec</td>\n",
       "      <td>False</td>\n",
       "    </tr>\n",
       "    <tr>\n",
       "      <th>1</th>\n",
       "      <td>Super Bowl 50 was an American football game to...</td>\n",
       "      <td>Which NFL team represented the NFC at Super Bo...</td>\n",
       "      <td>[249, 249, 249]</td>\n",
       "      <td>[Carolina Panthers, Carolina Panthers, Carolin...</td>\n",
       "      <td>56be4db0acb8001400a502ed</td>\n",
       "      <td>False</td>\n",
       "    </tr>\n",
       "    <tr>\n",
       "      <th>2</th>\n",
       "      <td>Super Bowl 50 was an American football game to...</td>\n",
       "      <td>Where did Super Bowl 50 take place?</td>\n",
       "      <td>[403, 355, 355]</td>\n",
       "      <td>[Santa Clara, California, Levi's Stadium, Levi...</td>\n",
       "      <td>56be4db0acb8001400a502ee</td>\n",
       "      <td>False</td>\n",
       "    </tr>\n",
       "    <tr>\n",
       "      <th>3</th>\n",
       "      <td>Super Bowl 50 was an American football game to...</td>\n",
       "      <td>Which NFL team won Super Bowl 50?</td>\n",
       "      <td>[177, 177, 177]</td>\n",
       "      <td>[Denver Broncos, Denver Broncos, Denver Broncos]</td>\n",
       "      <td>56be4db0acb8001400a502ef</td>\n",
       "      <td>False</td>\n",
       "    </tr>\n",
       "    <tr>\n",
       "      <th>4</th>\n",
       "      <td>Super Bowl 50 was an American football game to...</td>\n",
       "      <td>What color was used to emphasize the 50th anni...</td>\n",
       "      <td>[488, 488, 521]</td>\n",
       "      <td>[gold, gold, gold]</td>\n",
       "      <td>56be4db0acb8001400a502f0</td>\n",
       "      <td>False</td>\n",
       "    </tr>\n",
       "  </tbody>\n",
       "</table>\n",
       "</div>"
      ],
      "text/plain": [
       "                                            doc_text  \\\n",
       "0  Super Bowl 50 was an American football game to...   \n",
       "1  Super Bowl 50 was an American football game to...   \n",
       "2  Super Bowl 50 was an American football game to...   \n",
       "3  Super Bowl 50 was an American football game to...   \n",
       "4  Super Bowl 50 was an American football game to...   \n",
       "\n",
       "                                       question_text     answer_start  \\\n",
       "0  Which NFL team represented the AFC at Super Bo...  [177, 177, 177]   \n",
       "1  Which NFL team represented the NFC at Super Bo...  [249, 249, 249]   \n",
       "2                Where did Super Bowl 50 take place?  [403, 355, 355]   \n",
       "3                  Which NFL team won Super Bowl 50?  [177, 177, 177]   \n",
       "4  What color was used to emphasize the 50th anni...  [488, 488, 521]   \n",
       "\n",
       "                                         answer_text  \\\n",
       "0   [Denver Broncos, Denver Broncos, Denver Broncos]   \n",
       "1  [Carolina Panthers, Carolina Panthers, Carolin...   \n",
       "2  [Santa Clara, California, Levi's Stadium, Levi...   \n",
       "3   [Denver Broncos, Denver Broncos, Denver Broncos]   \n",
       "4                                 [gold, gold, gold]   \n",
       "\n",
       "                      qa_id  is_impossible  \n",
       "0  56be4db0acb8001400a502ec          False  \n",
       "1  56be4db0acb8001400a502ed          False  \n",
       "2  56be4db0acb8001400a502ee          False  \n",
       "3  56be4db0acb8001400a502ef          False  \n",
       "4  56be4db0acb8001400a502f0          False  "
      ]
     },
     "execution_count": 6,
     "metadata": {},
     "output_type": "execute_result"
    }
   ],
   "source": [
    "dev_df.head()"
   ]
  },
  {
   "cell_type": "code",
   "execution_count": 7,
   "metadata": {},
   "outputs": [],
   "source": [
    "train_df = train_df.sample(frac=TRAIN_DATA_USED_PERCENT).reset_index(drop=True)\n",
    "dev_df = dev_df.sample(frac=DEV_DATA_USED_PERCENT).reset_index(drop=True)"
   ]
  },
  {
   "cell_type": "code",
   "execution_count": 8,
   "metadata": {},
   "outputs": [],
   "source": [
    "train_dataset = QADataset(df=train_df,\n",
    "                          doc_text_col=DOC_TEXT_COL,\n",
    "                          question_text_col=QUESTION_TEXT_COL,\n",
    "                          qa_id_col=QA_ID_COL,\n",
    "                          is_impossible_col=IS_IMPOSSIBLE_COL,\n",
    "                          answer_start_col=ANSWER_START_COL,\n",
    "                          answer_text_col=ANSWER_TEXT_COL)\n",
    "dev_dataset = QADataset(df=dev_df,\n",
    "                        doc_text_col=DOC_TEXT_COL,\n",
    "                        question_text_col=QUESTION_TEXT_COL,\n",
    "                        qa_id_col=QA_ID_COL,\n",
    "                        is_impossible_col=IS_IMPOSSIBLE_COL,\n",
    "                        answer_start_col=ANSWER_START_COL,\n",
    "                        answer_text_col=ANSWER_TEXT_COL)"
   ]
  },
  {
   "cell_type": "markdown",
   "metadata": {},
   "source": [
    "## Tokenize and Preprocess Data"
   ]
  },
  {
   "cell_type": "markdown",
   "metadata": {},
   "source": [
    "The `tokenizer_qa` method of `Tokenizer` tokenizes the input paragraph, question, and answer texts and converts them into the format required by pre-trained BERT model, involving the following steps:\n",
    "* WordPiece tokenization.\n",
    "* Convert character-based answer span indices to token-based indices.\n",
    "* Truncate the question token list if it's longer than `max_question_length`.\n",
    "* Split the paragraph into multiple segments if it's longer than `max_len` - `max_question_length` - 3. (The \"-3\" is for the special [CLS] token and two [SEP] tokens.)\n",
    "* Add the special tokens [CLS] and [SEP].\n",
    "* Pad the concatenated token sequence to `max_len` if it's shorter.\n",
    "* Convert the tokens into token indices corresponding to the BERT tokenizer's vocabulary.\n",
    "\n",
    "In additional to the features required by BERT, `tokenize_qa` outputs a few additional fields needed by postprocessing. See the `QAFeatures` class in [qa_utils.py](../../utils_nlp/models/bert/qa_utils.py) for more details"
   ]
  },
  {
   "cell_type": "code",
   "execution_count": 19,
   "metadata": {},
   "outputs": [],
   "source": [
    "train_dataloader = get_qa_dataloader(train_dataset, \n",
    "                                    model_name=MODEL_NAME, \n",
    "                                    is_training=True,\n",
    "                                    to_lower=DO_LOWER_CASE,\n",
    "                                    batch_size=BATCH_SIZE\n",
    "                                        )\n",
    "\n",
    "dev_dataloader = get_qa_dataloader(dev_dataset, \n",
    "                                   model_name=MODEL_NAME, \n",
    "                                   is_training=False,\n",
    "                                   to_lower=DO_LOWER_CASE,\n",
    "                                   batch_size=BATCH_SIZE)"
   ]
  },
  {
   "cell_type": "markdown",
   "metadata": {},
   "source": [
    "## Train BERTQAExtractor"
   ]
  },
  {
   "cell_type": "code",
   "execution_count": 10,
   "metadata": {},
   "outputs": [
    {
     "name": "stderr",
     "output_type": "stream",
     "text": [
      "100%|██████████| 641/641 [00:00<00:00, 419364.98B/s]\n",
      "100%|██████████| 467042463/467042463 [00:08<00:00, 56351980.12B/s]\n"
     ]
    }
   ],
   "source": [
    "qa_extractor = AnswerExtractor(model_name=MODEL_NAME, cache_dir=CACHE_DIR)"
   ]
  },
  {
   "cell_type": "code",
   "execution_count": 11,
   "metadata": {},
   "outputs": [
    {
     "name": "stderr",
     "output_type": "stream",
     "text": [
      "Epoch:   0%|          | 0/1 [00:00<?, ?it/s]\n",
      "Iteration:   0%|          | 0/44 [00:00<?, ?it/s]\u001b[A"
     ]
    },
    {
     "name": "stdout",
     "output_type": "stream",
     "text": [
      "Warning: Only 1 CUDA device is available. Data parallelism is not possible.\n"
     ]
    },
    {
     "name": "stderr",
     "output_type": "stream",
     "text": [
      "\n",
      "Epoch: 100%|██████████| 1/1 [00:44<00:00, 44.47s/it]1s/it]\u001b[A\n"
     ]
    },
    {
     "name": "stdout",
     "output_type": "stream",
     "text": [
      "Training time : 0.013 hrs\n"
     ]
    }
   ],
   "source": [
    "with Timer() as t:\n",
    "    qa_extractor.fit(train_dataloader=train_dataloader,\n",
    "                     num_epochs=NUM_EPOCHS,\n",
    "                     learning_rate=LEARNING_RATE,\n",
    "                     cache_model=True)\n",
    "print(\"Training time : {:.3f} hrs\".format(t.interval / 3600))\n",
    "\n",
    "# qa_extractor = AnswerExtractor(model_name=MODEL_NAME, cache_dir=CACHE_DIR, load_model_from_dir=\"./temp\")\n",
    " "
   ]
  },
  {
   "cell_type": "markdown",
   "metadata": {},
   "source": [
    "## Predict\n",
    "Note that the `BERTQAExtractor.predict` only outputs the probabilities of each token being the start and end of the answer span. the `postprocess_answers` method takes these probabilities and generates the final answers. "
   ]
  },
  {
   "cell_type": "code",
   "execution_count": 12,
   "metadata": {},
   "outputs": [
    {
     "name": "stderr",
     "output_type": "stream",
     "text": [
      "\r",
      "Evaluating:   0%|          | 0/53 [00:00<?, ?it/s]"
     ]
    },
    {
     "name": "stdout",
     "output_type": "stream",
     "text": [
      "Warning: Only 1 CUDA device is available. Data parallelism is not possible.\n"
     ]
    },
    {
     "name": "stderr",
     "output_type": "stream",
     "text": [
      "Evaluating: 100%|██████████| 53/53 [00:17<00:00,  3.03it/s]\n"
     ]
    }
   ],
   "source": [
    "qa_results = qa_extractor.predict(dev_dataloader)"
   ]
  },
  {
   "cell_type": "markdown",
   "metadata": {},
   "source": [
    "## Postprocess and Generate the Final Answers"
   ]
  },
  {
   "cell_type": "code",
   "execution_count": 23,
   "metadata": {},
   "outputs": [],
   "source": [
    "# tokenizer_class = TOKENIZER_CLASSES[\"xlnet\"]\n",
    "# tokenizer = tokenizer_class.from_pretrained(\n",
    "#     MODEL_NAME, do_lower_case=DO_LOWER_CASE, cache_dir=CACHE_DIR\n",
    "# )\n",
    "# final_answers, answer_probs, nbest_answers = postprocess_answer(qa_results,\n",
    "#                                                                 \"./cached_qa_features/cached_examples_test.jsonl\",\n",
    "#                                                                 \"./cached_qa_features/cached_features_test.jsonl\", \n",
    "#                                                                 do_lower_case=DO_LOWER_CASE,\n",
    "#                                                                 model_type='xlnet',\n",
    "#                                                                 tokenizer=tokenizer,\n",
    "#                                                                 n_best_size=5\n",
    "#                                                                )"
   ]
  },
  {
   "cell_type": "code",
   "execution_count": 25,
   "metadata": {},
   "outputs": [
    {
     "name": "stdout",
     "output_type": "stream",
     "text": [
      "Paragraph:\n",
      "Immunology is strongly experimental in everyday practice but is also characterized by an ongoing theoretical attitude. Many theories have been suggested in immunology from the end of the nineteenth century up to the present time. The end of the 19th century and the beginning of the 20th century saw a battle between \"cellular\" and \"humoral\" theories of immunity. According to the cellular theory of immunity, represented in particular by Elie Metchnikoff, it was cells – more precisely, phagocytes – that were responsible for immune responses. In contrast, the humoral theory of immunity, held, among others, by Robert Koch and Emil von Behring, stated that the active immune agents were soluble components (molecules) found in the organism’s “humors” rather than its cells.\n",
      "\n",
      "Question:\n",
      "What two scientists were proponents of the humoral theory of immunity?\n",
      "\n",
      "Ground truth answers:\n",
      "['Robert Koch and Emil von Behring', 'Robert Koch and Emil von Behring', 'Robert Koch and Emil von Behring,']\n",
      "\n",
      "Predicted answer:\n",
      "humoral theory of immunity, held, among others, by Robert Koch\n",
      "\n",
      "Top N best answers\n",
      "[OrderedDict([('text', 'humoral theory of immunity, held, among others, by Robert Koch'), ('probability', 0.3354403748792443), ('start_logit', 0.050400298088788986), ('end_logit', 0.011747416108846664)]), OrderedDict([('text', 'humoral theory of immunity, held, among others, by Robert Koch and Emil von'), ('probability', 0.33491658107363786), ('start_logit', 0.050400298088788986), ('end_logit', 0.01018468476831913)]), OrderedDict([('text', 'nineteenth century up to the present time. The end of the 19th century and the beginning of the 20th century saw a battle between \"cellular\"'), ('probability', 0.3296430440471178), ('start_logit', 0.034694310277700424), ('end_logit', 0.010019567795097828)])]\n",
      "-------------------------------------------------------------------------------------------------------------------\n",
      "Paragraph:\n",
      "Luther devised the catechism as a method of imparting the basics of Christianity to the congregations. In 1529, he wrote the Large Catechism, a manual for pastors and teachers, as well as a synopsis, the Small Catechism, to be memorised by the people themselves. The catechisms provided easy-to-understand instructional and devotional material on the Ten Commandments, the Apostles' Creed, the Lord's Prayer, baptism, and the Lord's Supper. Luther incorporated questions and answers in the catechism so that the basics of Christian faith would not just be learned by rote, \"the way monkeys do it\", but understood.\n",
      "\n",
      "Question:\n",
      "For whom was the Small Catechism meant?\n",
      "\n",
      "Ground truth answers:\n",
      "['the people', 'the people', 'people']\n",
      "\n",
      "Predicted answer:\n",
      "15\n",
      "\n",
      "Top N best answers\n",
      "[OrderedDict([('text', '15'), ('probability', 0.21441053227810625), ('start_logit', 0.16842985153198242), ('end_logit', 0.014055205509066582)]), OrderedDict([('text', '1529'), ('probability', 0.21387172365483118), ('start_logit', 0.16842985153198242), ('end_logit', 0.011539066210389137)]), OrderedDict([('text', '1529, he wrote the Large'), ('probability', 0.19155557099086956), ('start_logit', 0.0566546730697155), ('end_logit', 0.013115786015987396)]), OrderedDict([('text', '29'), ('probability', 0.19131258063054882), ('start_logit', 0.0566546730697155), ('end_logit', 0.011846469715237617)]), OrderedDict([('text', 'Luther devised the catechism as a method of imparting the basics of Christianity to the congregations. In 1529,'), ('probability', 0.18884959244564417), ('start_logit', 0.043396517634391785), ('end_logit', 0.01214687805622816)])]\n",
      "-------------------------------------------------------------------------------------------------------------------\n",
      "Paragraph:\n",
      "There would be no more scoring in the third quarter, but early in the fourth, the Broncos drove to the Panthers 41-yard line. On the next play, Ealy knocked the ball out of Manning's hand as he was winding up for a pass, and then recovered it for Carolina on the 50-yard line. A 16-yard reception by Devin Funchess and a 12-yard run by Stewart then set up Gano's 39-yard field goal, cutting the Panthers deficit to one score at 16–10. The next three drives of the game would end in punts.\n",
      "\n",
      "Question:\n",
      "Where was the ball recovered?\n",
      "\n",
      "Ground truth answers:\n",
      "['50-yard line.', 'on the 50-yard line', '50']\n",
      "\n",
      "Predicted answer:\n",
      "Carolina\n",
      "\n",
      "Top N best answers\n",
      "[OrderedDict([('text', 'Carolina'), ('probability', 0.25404336304514713), ('start_logit', 0.05785086750984192), ('end_logit', 0.017233405262231827)]), OrderedDict([('text', 'Stewart'), ('probability', 0.24885340217808793), ('start_logit', 0.04178765043616295), ('end_logit', 0.01265562605112791)]), OrderedDict([('text', \"Stewart then set up Gano's 39-yard field goal, cutting the Panthers deficit to one score at 16–10.\"), ('probability', 0.2486895949542271), ('start_logit', 0.04178765043616295), ('end_logit', 0.0119971614331007)]), OrderedDict([('text', 'Gano'), ('probability', 0.2484136398225378), ('start_logit', 0.04091772809624672), ('end_logit', 0.011756830848753452)])]\n",
      "-------------------------------------------------------------------------------------------------------------------\n"
     ]
    }
   ],
   "source": [
    "for i in [0, 10, 100]:\n",
    "    print('Paragraph:')\n",
    "    print(dev_df.iloc[i]['doc_text'])\n",
    "    print()\n",
    "    print('Question:')\n",
    "    print(dev_df.iloc[i]['question_text'])\n",
    "    print()\n",
    "    print('Ground truth answers:')\n",
    "    print(dev_df.iloc[i]['answer_text'])\n",
    "    print()\n",
    "    print('Predicted answer:')\n",
    "    print(final_answers[dev_df.iloc[i]['qa_id']])\n",
    "    print()\n",
    "    print('Top N best answers')\n",
    "    print(nbest_answers[dev_df.iloc[i]['qa_id']])\n",
    "    print('-------------------------------------------------------------------------------------------------------------------')"
   ]
  },
  {
   "cell_type": "markdown",
   "metadata": {},
   "source": [
    "## Evaluate"
   ]
  },
  {
   "cell_type": "markdown",
   "metadata": {},
   "source": [
    "Question answering task is usually evaluated on two metrics: exact match (EM) and F1 score.   \n",
    "The exact match is computed by first performing some simple normalization (e.g. remove punctuation and convert to lower case) on the ground truth and predicted answers and check if they match exactly after normalization.   \n",
    "F1 score is computed from token-level precision and recall by comparing the ground truth and predicted answers. "
   ]
  },
  {
   "cell_type": "code",
   "execution_count": 24,
   "metadata": {},
   "outputs": [
    {
     "name": "stdout",
     "output_type": "stream",
     "text": [
      "{\n",
      "  \"exact\": 4.716981132075472,\n",
      "  \"f1\": 10.462211244388133,\n",
      "  \"total\": 106,\n",
      "  \"HasAns_exact\": 4.716981132075472,\n",
      "  \"HasAns_f1\": 10.462211244388133,\n",
      "  \"HasAns_total\": 106\n",
      "}\n"
     ]
    }
   ],
   "source": [
    "evaluation_result = evaluate_qa(qa_ids=dev_df['qa_id'], \n",
    "                                actuals=dev_df['answer_text'], \n",
    "                                preds=final_answers)"
   ]
  },
  {
   "cell_type": "code",
   "execution_count": null,
   "metadata": {},
   "outputs": [],
   "source": [
    "# from utils_nlp.models.transformers.qa_utils import QADataset\n",
    "# from torch.utils.data import (\n",
    "#     Dataset,\n",
    "#     IterableDataset,\n",
    "#     DataLoader,\n",
    "#     RandomSampler,\n",
    "#     SequentialSampler,\n",
    "#     TensorDataset,\n",
    "# )\n",
    "\n",
    "# qa_dataset = QADataset(train_df,\n",
    "#                        doc_text_col=\"doc_text\",\n",
    "#                        question_text_col=\"question_text\",\n",
    "#                        qa_id_col=\"qa_id\",\n",
    "#                        is_impossible_col=\"is_impossible\",\n",
    "#                        answer_start_col=\"answer_start\",\n",
    "#                        answer_text_col=\"answer_text\")\n",
    "# sampler = SequentialSampler(qa_dataset)\n",
    "# data_loader = DataLoader(qa_dataset, sampler=sampler, batch_size=32)\n",
    "# def test_generator():\n",
    "#     features = []\n",
    "#     c = 0\n",
    "#     f = True\n",
    "#     for i in range(10):\n",
    "#         features.append(c)\n",
    "#         features.append(c+1)\n",
    "        \n",
    "#         while len(features) > 0:\n",
    "#             output = features[0]\n",
    "#             features = features[1:]\n",
    "            \n",
    "#             if f:\n",
    "#                 yield output\n",
    "#             else:\n",
    "#                 yield output * 10\n",
    "            \n",
    "#             f = not f\n",
    "#         c += 2\n",
    "\n",
    "# g = test_generator()\n",
    "# for item in g:\n",
    "#     print(item)\n",
    "\n",
    "# from torch.utils.data import TensorDataset\n",
    "# def test_generator():\n",
    "#     i = 0\n",
    "#     while i < 2:\n",
    "#         i+=1\n",
    "#         t1 = torch.tensor([list(range(1024)), list(range(1024))], dtype=torch.long)\n",
    "#         t2 = torch.tensor([list(range(512)), list(range(512))], dtype=torch.long)\n",
    "#         yield (t1, t2)\n",
    "        \n",
    "# g = test_generator()\n",
    "\n",
    "# for t1, t2 in g:\n",
    "#     print(t2)"
   ]
  },
  {
   "cell_type": "markdown",
   "metadata": {},
   "source": [
    "## References\n",
    "\n",
    "1. Devlin, Jacob and Chang, Ming-Wei and Lee, Kenton and Toutanova, Kristina, [*BERT: Pre-training of Deep Bidirectional Transformers for Language Understanding*](https://arxiv.org/abs/1810.04805), ACL, 2018.\n",
    "2. Pranav Rajpurkar, Jian Zhang, Konstantin Lopyrev, Percy Liang, [*SQuAD: 100,000+ Questions for Machine Comprehension of Text*](https://arxiv.org/abs/1606.05250), EMNLP, 2016.\n",
    "3. Pranav Rajpurkar, Robin Jia, Percy Liang, [*Know What You Don't Know: Unanswerable Questions for SQuAD*](https://arxiv.org/abs/1806.03822), ACL, 2018"
   ]
  }
 ],
 "metadata": {
  "celltoolbar": "Tags",
  "kernelspec": {
   "display_name": "nlp_gpu",
   "language": "python",
   "name": "nlp_gpu"
  },
  "language_info": {
   "codemirror_mode": {
    "name": "ipython",
    "version": 3
   },
   "file_extension": ".py",
   "mimetype": "text/x-python",
   "name": "python",
   "nbconvert_exporter": "python",
   "pygments_lexer": "ipython3",
   "version": "3.6.8"
  }
 },
 "nbformat": 4,
 "nbformat_minor": 2
}
